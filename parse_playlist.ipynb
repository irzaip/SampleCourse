{
 "cells": [
  {
   "cell_type": "code",
   "execution_count": 81,
   "metadata": {},
   "outputs": [],
   "source": [
    "url = 'https://www.youtube.com/playlist?list=PLFIM0718LjIUBrbm6Gdh6k7ZUvPIAZm7p'"
   ]
  },
  {
   "cell_type": "code",
   "execution_count": 82,
   "metadata": {},
   "outputs": [
    {
     "name": "stdout",
     "output_type": "stream",
     "text": [
      "1. 1 - Pendahuluan\n",
      "https://www.youtube.com/watch?v=CleFk3BZB3g&list=PLFIM0718LjIUBrbm6Gdh6k7ZUvPIAZm7p&index=2&t=0s\n",
      "--------------------------------------------------------------------------------\n",
      "2. 2 - Anatomi CSS\n",
      "https://www.youtube.com/watch?v=8lXDi2Mxp9c&list=PLFIM0718LjIUBrbm6Gdh6k7ZUvPIAZm7p&index=3&t=0s\n",
      "--------------------------------------------------------------------------------\n",
      "3. 3 - Penempatan CSS\n",
      "https://www.youtube.com/watch?v=bnnislprJro&list=PLFIM0718LjIUBrbm6Gdh6k7ZUvPIAZm7p&index=4&t=0s\n",
      "--------------------------------------------------------------------------------\n",
      "4. 4 - Font Styling\n",
      "https://www.youtube.com/watch?v=nPHed3_oPvY&list=PLFIM0718LjIUBrbm6Gdh6k7ZUvPIAZm7p&index=5&t=0s\n",
      "--------------------------------------------------------------------------------\n",
      "5. 5 - Text Styling\n",
      "https://www.youtube.com/watch?v=xih8giA7S3Q&list=PLFIM0718LjIUBrbm6Gdh6k7ZUvPIAZm7p&index=6&t=0s\n",
      "--------------------------------------------------------------------------------\n",
      "6. 6 - Background\n",
      "https://www.youtube.com/watch?v=zm-HPYS_ELU&list=PLFIM0718LjIUBrbm6Gdh6k7ZUvPIAZm7p&index=7&t=0s\n",
      "--------------------------------------------------------------------------------\n",
      "7. 7 - Selector\n",
      "https://www.youtube.com/watch?v=0KLwWyQyMQo&list=PLFIM0718LjIUBrbm6Gdh6k7ZUvPIAZm7p&index=8&t=0s\n",
      "--------------------------------------------------------------------------------\n",
      "8. 8 - Pseudo Class\n",
      "https://www.youtube.com/watch?v=G0gYWdIHOug&list=PLFIM0718LjIUBrbm6Gdh6k7ZUvPIAZm7p&index=9&t=0s\n",
      "--------------------------------------------------------------------------------\n",
      "9. 9 - Inheritance\n",
      "https://www.youtube.com/watch?v=kY2FEA3y43E&list=PLFIM0718LjIUBrbm6Gdh6k7ZUvPIAZm7p&index=10&t=0s\n",
      "--------------------------------------------------------------------------------\n",
      "10. 10 - Specificity\n",
      "https://www.youtube.com/watch?v=yu74Y1ndd5w&list=PLFIM0718LjIUBrbm6Gdh6k7ZUvPIAZm7p&index=11&t=0s\n",
      "--------------------------------------------------------------------------------\n"
     ]
    }
   ],
   "source": [
    "from bs4 import BeautifulSoup\n",
    "import requests\n",
    "\n",
    "page = requests.get(url)\n",
    "soup = BeautifulSoup(page.text, 'lxml')\n",
    "\n",
    "to_write = []\n",
    "\n",
    "for i, tr in enumerate(soup.select('tr.pl-video')):\n",
    "    print('{}. {}'.format(i + 1, tr['data-title'].replace(\"CSS Dasar - \",\"\")))\n",
    "    print('https://www.youtube.com' + tr.a['href'])\n",
    "    print('-' * 80)\n",
    "    to_write.append('({} \"{}\")'.format('https://www.youtube.com'+tr.a['href'], tr['data-title'].replace(\"CSS Dasar - \",\"\")))    \n",
    "    "
   ]
  },
  {
   "cell_type": "code",
   "execution_count": 83,
   "metadata": {},
   "outputs": [
    {
     "name": "stdout",
     "output_type": "stream",
     "text": [
      "JUDUL    :CSS Dasar\n",
      "OLEH     :Sandhika Galih\n",
      "CATEGORY :teknologi, programming\n",
      "DESKRIPSI:Mempelajari CCS dasar dari awal\n",
      "RATING   :4.9\n",
      "HARGA    :Free\n"
     ]
    }
   ],
   "source": [
    "jdl =  input(\"JUDUL    :\")\n",
    "olh =  input(\"OLEH     :\")\n",
    "catg = input(\"CATEGORY :\")\n",
    "desc = input(\"DESKRIPSI:\")\n",
    "ratg = input(\"RATING   :\")\n",
    "harg = input(\"HARGA    :\")"
   ]
  },
  {
   "cell_type": "code",
   "execution_count": 84,
   "metadata": {},
   "outputs": [],
   "source": [
    "jdl_fl = jdl.replace(\" \",\"_\")+\".md\"\n",
    "jdl_mm = jdl.replace(\" \",\"_\")+\"_t.txt\"\n",
    "with open(jdl_fl, 'w', encoding=\"UTF-8\") as f:\n",
    "    f.write(\"# \" + jdl + '\\n')\n",
    "    for item in to_write:\n",
    "        f.write(\"%s\\n\" % item)\n",
    "    f.write(\"# END\\n\")"
   ]
  },
  {
   "cell_type": "code",
   "execution_count": 85,
   "metadata": {},
   "outputs": [],
   "source": [
    "c_url = \"https://raw.githubusercontent.com/irzaip/SampleCourse/master/\" + jdl_fl\n",
    "with open(jdl_mm, 'w', encoding=\"UTF-8\") as f:\n",
    "  f.write(\"# %s\\n\" % jdl)\n",
    "  f.write(\"## %s\\n\" % olh)\n",
    "  f.write(\"### %s\\n\" % catg)\n",
    "  f.write(\"#### %s\\n\" % desc)\n",
    "  f.write(\"##### %s\\n\" % harg)\n",
    "  f.write(\"###### %s\\n\" % ratg)\n",
    "  f.write(\"(%s)\\n\" % c_url)  \n"
   ]
  },
  {
   "cell_type": "code",
   "execution_count": null,
   "metadata": {},
   "outputs": [],
   "source": []
  }
 ],
 "metadata": {
  "kernelspec": {
   "display_name": "Python 3",
   "language": "python",
   "name": "python3"
  },
  "language_info": {
   "codemirror_mode": {
    "name": "ipython",
    "version": 3
   },
   "file_extension": ".py",
   "mimetype": "text/x-python",
   "name": "python",
   "nbconvert_exporter": "python",
   "pygments_lexer": "ipython3",
   "version": "3.6.4"
  }
 },
 "nbformat": 4,
 "nbformat_minor": 2
}

{
 "cells": [
  {
   "cell_type": "code",
   "execution_count": 59,
   "metadata": {},
   "outputs": [],
   "source": [
    "url = 'https://www.youtube.com/playlist?list=PLFIM0718LjIVuONHysfOK0ZtiqUWvrx4F'"
   ]
  },
  {
   "cell_type": "code",
   "execution_count": 65,
   "metadata": {},
   "outputs": [
    {
     "name": "stdout",
     "output_type": "stream",
     "text": [
      "1. Pendahuluan HTML (1/13)\n",
      "https://www.youtube.com/watch?v=NBZ9Ro6UKV8&list=PLFIM0718LjIVuONHysfOK0ZtiqUWvrx4F&index=2&t=0s\n",
      "--------------------------------------------------------------------------------\n",
      "2. Hello World! (2/13)\n",
      "https://www.youtube.com/watch?v=1NicaVOCXHA&list=PLFIM0718LjIVuONHysfOK0ZtiqUWvrx4F&index=3&t=0s\n",
      "--------------------------------------------------------------------------------\n",
      "3. Code Editor (3/13)\n",
      "https://www.youtube.com/watch?v=3sLSi9L5nWE&list=PLFIM0718LjIVuONHysfOK0ZtiqUWvrx4F&index=4&t=0s\n",
      "--------------------------------------------------------------------------------\n",
      "4. Tag (4/13)\n",
      "https://www.youtube.com/watch?v=cUWBYzA6M-8&list=PLFIM0718LjIVuONHysfOK0ZtiqUWvrx4F&index=5&t=0s\n",
      "--------------------------------------------------------------------------------\n",
      "5. Paragraf (5/13)\n",
      "https://www.youtube.com/watch?v=Dl_bIYBc9gM&list=PLFIM0718LjIVuONHysfOK0ZtiqUWvrx4F&index=6&t=0s\n",
      "--------------------------------------------------------------------------------\n",
      "6. Heading (6/13)\n",
      "https://www.youtube.com/watch?v=SMetRBdIh-8&list=PLFIM0718LjIVuONHysfOK0ZtiqUWvrx4F&index=7&t=0s\n",
      "--------------------------------------------------------------------------------\n",
      "7. List (7/13)\n",
      "https://www.youtube.com/watch?v=gLHEoeupIZs&list=PLFIM0718LjIVuONHysfOK0ZtiqUWvrx4F&index=8&t=0s\n",
      "--------------------------------------------------------------------------------\n",
      "8. Hyperlink (8/13)\n",
      "https://www.youtube.com/watch?v=QIlBOI-hTuA&list=PLFIM0718LjIVuONHysfOK0ZtiqUWvrx4F&index=9&t=0s\n",
      "--------------------------------------------------------------------------------\n",
      "9. Image (9/13)\n",
      "https://www.youtube.com/watch?v=yb_emYhY3Pc&list=PLFIM0718LjIVuONHysfOK0ZtiqUWvrx4F&index=10&t=0s\n",
      "--------------------------------------------------------------------------------\n",
      "10. Table (10/13)\n",
      "https://www.youtube.com/watch?v=7-QNafrXigs&list=PLFIM0718LjIVuONHysfOK0ZtiqUWvrx4F&index=11&t=0s\n",
      "--------------------------------------------------------------------------------\n",
      "11. Table Merging (11/13)\n",
      "https://www.youtube.com/watch?v=qs8G2XWf7Yk&list=PLFIM0718LjIVuONHysfOK0ZtiqUWvrx4F&index=12&t=0s\n",
      "--------------------------------------------------------------------------------\n",
      "12. Form (12/13)\n",
      "https://www.youtube.com/watch?v=LQf_Jj7jbCI&list=PLFIM0718LjIVuONHysfOK0ZtiqUWvrx4F&index=13&t=0s\n",
      "--------------------------------------------------------------------------------\n",
      "13. Form (lanjutan) (13/13)\n",
      "https://www.youtube.com/watch?v=_CNkLKU-LoE&list=PLFIM0718LjIVuONHysfOK0ZtiqUWvrx4F&index=14&t=0s\n",
      "--------------------------------------------------------------------------------\n"
     ]
    }
   ],
   "source": [
    "from bs4 import BeautifulSoup\n",
    "import requests\n",
    "\n",
    "page = requests.get(url)\n",
    "soup = BeautifulSoup(page.text, 'lxml')\n",
    "\n",
    "to_write = []\n",
    "\n",
    "for i, tr in enumerate(soup.select('tr.pl-video')):\n",
    "    print('{}. {}'.format(i + 1, tr['data-title'].replace(\"HTML Dasar : \",\"\")))\n",
    "    print('https://www.youtube.com' + tr.a['href'])\n",
    "    print('-' * 80)\n",
    "    to_write.append('({} \"{}\")'.format('https://www.youtube.com'+tr.a['href'], tr['data-title'].replace(\"HTML Dasar : \",\"\")))    \n",
    "    "
   ]
  },
  {
   "cell_type": "code",
   "execution_count": 72,
   "metadata": {},
   "outputs": [
    {
     "name": "stdout",
     "output_type": "stream",
     "text": [
      "JUDUL    :HTML DASAR\n",
      "OLEH     :Sandhika Galih\n",
      "CATEGORY :teknologi, programming\n",
      "DESKRIPSI:Seri mengenai bagaimana membuat website menggunakan bahasa HTML. Mencakup pembahasan mengenai sejarah HTML, membuat halaman web sederhana, dan penjelasan mengenai tag-tag yang ada pada HTML.\n",
      "RATING   :4.9\n",
      "HARGA    :Free\n"
     ]
    }
   ],
   "source": [
    "jdl =  input(\"JUDUL    :\")\n",
    "olh =  input(\"OLEH     :\")\n",
    "catg = input(\"CATEGORY :\")\n",
    "desc = input(\"DESKRIPSI:\")\n",
    "ratg = input(\"RATING   :\")\n",
    "harg = input(\"HARGA    :\")"
   ]
  },
  {
   "cell_type": "code",
   "execution_count": 75,
   "metadata": {},
   "outputs": [],
   "source": []
  },
  {
   "cell_type": "code",
   "execution_count": 79,
   "metadata": {},
   "outputs": [],
   "source": [
    "jdl_fl = jdl.replace(\" \",\"_\")+\".md\"\n",
    "jdl_mm = jdl.replace(\" \",\"_\")+\"_t.txt\"\n",
    "with open(jdl_fl, 'w', encoding=\"UTF-8\") as f:\n",
    "    f.write(\"# \" + jdl + '\\n')\n",
    "    for item in to_write:\n",
    "        f.write(\"%s\\n\" % item)\n",
    "    f.write(\"# END\\n\")"
   ]
  },
  {
   "cell_type": "code",
   "execution_count": 80,
   "metadata": {},
   "outputs": [],
   "source": [
    "c_url = \"https://raw.githubusercontent.com/irzaip/SampleCourse/master/\" + jdl_fl\n",
    "with open(jdl_mm, 'w', encoding=\"UTF-8\") as f:\n",
    "  f.write(\"# %s\\n\" % jdl)\n",
    "  f.write(\"## %s\\n\" % olh)\n",
    "  f.write(\"### %s\\n\" % catg)\n",
    "  f.write(\"#### %s\\n\" % desc)\n",
    "  f.write(\"##### %s\\n\" % ratg)\n",
    "  f.write(\"###### %s\\n\" % harg)\n",
    "  f.write(\"(%s)\\n\" % c_url)  \n"
   ]
  },
  {
   "cell_type": "code",
   "execution_count": null,
   "metadata": {},
   "outputs": [],
   "source": []
  }
 ],
 "metadata": {
  "kernelspec": {
   "display_name": "Python 3",
   "language": "python",
   "name": "python3"
  },
  "language_info": {
   "codemirror_mode": {
    "name": "ipython",
    "version": 3
   },
   "file_extension": ".py",
   "mimetype": "text/x-python",
   "name": "python",
   "nbconvert_exporter": "python",
   "pygments_lexer": "ipython3",
   "version": "3.6.4"
  }
 },
 "nbformat": 4,
 "nbformat_minor": 2
}
